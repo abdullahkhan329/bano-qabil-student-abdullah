{
 "cells": [
  {
   "cell_type": "code",
   "execution_count": 31,
   "id": "21ee1f14-ead9-45e8-8474-51a5c2552f55",
   "metadata": {},
   "outputs": [
    {
     "name": "stdin",
     "output_type": "stream",
     "text": [
      "enter 1st name: abdullaH\n",
      "enter 2nd name: KHAN\n"
     ]
    },
    {
     "name": "stdout",
     "output_type": "stream",
     "text": [
      "your fullname is: abdullaH     KHAN\n"
     ]
    }
   ],
   "source": [
    "a = (input('enter 1st name:'))\n",
    "b = (input('enter 2nd name:'))\n",
    "#c = int(input('enter 3rd no:'))\n",
    "\n",
    "\n",
    "print(\"your fullname is:\", a,\"   \",b)"
   ]
  },
  {
   "cell_type": "code",
   "execution_count": 56,
   "id": "eb371906-5558-4293-a74e-15ac0557556e",
   "metadata": {},
   "outputs": [
    {
     "name": "stdout",
     "output_type": "stream",
     "text": [
      "2 x  1\n",
      "2 x  2\n",
      "2 x  3\n",
      "2 x  4\n",
      "2 x  5\n",
      "2 x  6\n",
      "2 x  7\n",
      "2 x  8\n",
      "2 x  9\n",
      "2 x  10\n"
     ]
    }
   ],
   "source": [
    "for i in range(10):\n",
    "    print(\"2 x \",i+1)\n",
    "   \n"
   ]
  },
  {
   "cell_type": "code",
   "execution_count": 7,
   "id": "cee8fb76-e346-4a79-bd04-07c1920e1691",
   "metadata": {},
   "outputs": [
    {
     "ename": "SyntaxError",
     "evalue": "incomplete input (3024171976.py, line 9)",
     "output_type": "error",
     "traceback": [
      "\u001b[1;36m  Cell \u001b[1;32mIn[7], line 9\u001b[1;36m\u001b[0m\n\u001b[1;33m    \u001b[0m\n\u001b[1;37m    ^\u001b[0m\n\u001b[1;31mSyntaxError\u001b[0m\u001b[1;31m:\u001b[0m incomplete input\n"
     ]
    }
   ],
   "source": [
    "tab = int(input(\"which number do you want:\"))\n",
    "num = int(input(\"how many number do you want:\"))\n",
    "\n",
    "for i in range(num):\n",
    "    \n",
    "\n",
    "    print(f\"{tab} \"\n",
    "    \n",
    "    \n",
    "    \n",
    "\n",
    "\n"
   ]
  },
  {
   "cell_type": "code",
   "execution_count": 11,
   "id": "bc71f64d-eddd-4a9b-b4a2-f77c64027d78",
   "metadata": {},
   "outputs": [
    {
     "name": "stdin",
     "output_type": "stream",
     "text": [
      "enter your name Abdullah khan\n",
      "give physics numbers: 65\n",
      "give urdu  numbers: 89\n",
      "give islamiat numbers: 79\n"
     ]
    },
    {
     "name": "stdout",
     "output_type": "stream",
     "text": [
      "\t your total marks is 233\n",
      " your percent is84.72727272727273 your grade is A1\n"
     ]
    }
   ],
   "source": [
    "             #Marksheet\n",
    "person = input(\"enter your name\")\n",
    "\n",
    "physics = int(input(\"give physics numbers:\"))\n",
    "urdu = int(input(\"give urdu  numbers:\"))\n",
    "islamiat = int(input(\"give islamiat numbers:\"))\n",
    "\n",
    "obtain = (physics + urdu + islamiat)\n",
    "percent = (obtain*100)/275\n",
    "\n",
    "if percent < 200 and percent <275:\n",
    "    grade = \"A1\"\n",
    "\n",
    "elif percent < 150 and percent <275:\n",
    "    grade = \"B\"\n",
    "\n",
    "elif percent < 100 and percent <275:\n",
    "    grade = \"C\"\n",
    "\n",
    "else:\n",
    "    grade = \"invalid question\"\n",
    "\n",
    "print(f\"\\t your total marks is {obtain}\\n your percent is{percent} your grade is {grade}\")"
   ]
  }
 ],
 "metadata": {
  "kernelspec": {
   "display_name": "Python 3 (ipykernel)",
   "language": "python",
   "name": "python3"
  },
  "language_info": {
   "codemirror_mode": {
    "name": "ipython",
    "version": 3
   },
   "file_extension": ".py",
   "mimetype": "text/x-python",
   "name": "python",
   "nbconvert_exporter": "python",
   "pygments_lexer": "ipython3",
   "version": "3.12.4"
  }
 },
 "nbformat": 4,
 "nbformat_minor": 5
}
